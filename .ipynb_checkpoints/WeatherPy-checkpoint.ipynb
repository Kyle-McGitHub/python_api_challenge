{
 "cells": [
  {
   "cell_type": "markdown",
   "id": "92b9e6b3-ff22-4389-8d46-18174c247b0c",
   "metadata": {},
   "source": [
    "# WeatherPy\n",
    "-----------------------------------------------------------------------------------------------------------------------------------------------------------\n",
    "\n",
    "## Starter Code to Generate Random Geographic Coordinates and a List of Cities"
   ]
  },
  {
   "cell_type": "code",
   "execution_count": 2,
   "id": "151be459-0922-496d-bc44-39541c002b0a",
   "metadata": {},
   "outputs": [],
   "source": [
    "# Dependencies and Setup\n",
    "import matplotlib.pyplot as plt\n",
    "import pandas as pd\n",
    "import numpy as np\n",
    "import requests\n",
    "from scipy.stats import linregress\n",
    "\n",
    "# I want a time delay on my requests so that I don't exceed 60 per minute; per the API documentation, that will cause a lockout.\n",
    "import time\n",
    "\n",
    "from scipy.stats import linregress\n",
    "\n",
    "# Import the OpenWeatherMap API key\n",
    "from api_keys import weather_key\n",
    "\n",
    "# Import citipy to determine the cities based on latitude and longitude\n",
    "from citipy import citipy"
   ]
  },
  {
   "cell_type": "markdown",
   "id": "fb3191d5-f830-434e-ba9c-77d811657f92",
   "metadata": {},
   "source": [
    "### Generate the Cities List by Using the `citipy` Library"
   ]
  },
  {
   "cell_type": "code",
   "execution_count": null,
   "id": "481b6d59-1f85-44b4-8eef-935475320f5f",
   "metadata": {},
   "outputs": [],
   "source": [
    "# Empty list for holding the latitude and longitude combinations\n",
    "lat_lngs = []\n",
    "\n",
    "# Empty list for holding the cities names\n",
    "cities = []\n",
    "\n",
    "# Range of latitudes and longitudes\n",
    "lat_range = (-90, 90)\n",
    "lng_range = (-180, 180)\n",
    "\n",
    "# Create a set of random lat and lng combinations\n",
    "lats = np.random.uniform(lat_range[0], lat_range[1], size=1500)\n",
    "lngs = np.random.uniform(lng_range[0], lng_range[1], size=1500)\n",
    "lat_lngs = zip(lats, lngs)\n",
    "\n",
    "# Identify nearest city for each lat, lng combination\n",
    "for lat_lng in lat_lngs:\n",
    "    city = citipy.nearest_city(lat_lng[0], lat_lng[1]).city_name\n",
    "    \n",
    "    # If the city is unique, then add it to a our cities list\n",
    "    if city not in cities:\n",
    "        cities.append(city)\n",
    "\n",
    "# Print the city count to confirm sufficient count\n",
    "print(f\"Number of cities in the list: {len(cities)}\")"
   ]
  },
  {
   "cell_type": "markdown",
   "id": "276d6995-3675-4eea-88ab-cd1bd8fd8e8d",
   "metadata": {},
   "source": [
    "# Requirement 1: Create Plots to Showcase the Relationship Between Weather Variables and Latitude\n",
    "\n",
    "## Use the OpenWeatherMap API to retrieve weather data from the cities list generated in the starter code"
   ]
  },
  {
   "cell_type": "code",
   "execution_count": null,
   "id": "ae7767af-aadd-4f59-8de6-e9ac0be91238",
   "metadata": {},
   "outputs": [],
   "source": [
    "# Extract city names\n",
    "cities = pd.read_csv('cities.csv')['City']\n",
    "\n",
    "# Set the API base URL\n",
    "url = \"https://api.openweathermap.org/data/2.5/weather?\"\n",
    "\n",
    "# Define an empty list to fetch the weather data for each city\n",
    "city_data = []\n",
    "\n",
    "# Print to logger\n",
    "print(\"Beginning Data Retrieval     \")\n",
    "print(\"-----------------------------\")\n",
    "\n",
    "# Create counters\n",
    "record_count = 1\n",
    "set_count = 1\n",
    "\n",
    "# Loop through all the cities in our list to fetch weather data\n",
    "for i, city in enumerate(cities):\n",
    "\n",
    "    # Sleep for 1 second, to not exceed 60 per minute.\n",
    "    time.sleep(1)\n",
    "        \n",
    "    # Group cities in sets of 50 for logging purposes\n",
    "    if (i % 50 == 0 and i >= 50):\n",
    "        set_count += 1\n",
    "        record_count = 0\n",
    "\n",
    "    # Create endpoint URL with each city\n",
    "    city_url = f\"{url}q={city}&appid={weather_api_key}\"\n",
    "    \n",
    "    # Log the url, record, and set numbers\n",
    "    print(\"Processing Record %s of Set %s | %s\" % (record_count, set_count, city))\n",
    "\n",
    "    # Add 1 to the record count\n",
    "    record_count += 1\n",
    "\n",
    "    # Run an API request for each of the cities\n",
    "    try:\n",
    "        # Parse the JSON and retrieve data\n",
    "        response = requests.get(city_url)\n",
    "        city_weather = response.json()\n",
    "\n",
    "        # Parse out latitude, longitude, max temp, humidity, cloudiness, wind speed, country, and date\n",
    "        city_lat = city_weather[\"coord\"][\"lat\"]\n",
    "        city_lng = city_weather[\"coord\"][\"lon\"]\n",
    "        city_max_temp = city_weather[\"main\"][\"temp_max\"] - 273.15 # <---- This converts from Kelvin to Celsius. API loads in K.\n",
    "        city_humidity = city_weather[\"main\"][\"humidity\"]\n",
    "        city_clouds = city_weather[\"clouds\"][\"all\"]\n",
    "        city_wind = city_weather[\"wind\"][\"speed\"]\n",
    "        city_country = city_weather[\"sys\"][\"country\"]\n",
    "        city_date = city_weather[\"dt\"]\n",
    "\n",
    "        # Append the City information into city_data list\n",
    "        city_data.append({\"City\": city, \n",
    "                          \"Lat\": city_lat, \n",
    "                          \"Lng\": city_lng, \n",
    "                          \"Max Temp\": city_max_temp,\n",
    "                          \"Humidity\": city_humidity,\n",
    "                          \"Cloudiness\": city_clouds,\n",
    "                          \"Wind Speed\": city_wind,\n",
    "                          \"Country\": city_country,\n",
    "                          \"Date\": city_date})\n",
    "\n",
    "    # If an error is experienced, skip the city\n",
    "    except:\n",
    "        print(\"City not found. Skipping...\")\n",
    "        pass\n",
    "              \n",
    "# Indicate that Data Loading is complete \n",
    "print(\"-----------------------------\")\n",
    "print(\"Data Retrieval Complete      \")\n",
    "print(\"-----------------------------\")\n"
   ]
  },
  {
   "cell_type": "code",
   "execution_count": null,
   "id": "d50bbd4c-502b-4dec-9710-616444b39859",
   "metadata": {
    "scrolled": true
   },
   "outputs": [],
   "source": [
    "# Convert the cities weather data into a Pandas DataFrame while removing the non-numerical answers (to avoid skipped cities)\n",
    "city_data_df = pd.DataFrame(city_data)\n",
    "city_data_df = city_data_df.dropna()\n",
    "\n",
    "# Record count\n",
    "city_data_df.count()\n"
   ]
  },
  {
   "cell_type": "code",
   "execution_count": null,
   "id": "14e9d14a-336e-4669-894f-19856a7b1de2",
   "metadata": {
    "scrolled": true
   },
   "outputs": [],
   "source": [
    "city_data_df.head()"
   ]
  },
  {
   "cell_type": "code",
   "execution_count": null,
   "id": "70466c0b-0115-4b53-b479-f912c88d6814",
   "metadata": {},
   "outputs": [],
   "source": [
    "# Export to .csv\n",
    "city_data_df.to_csv(\"output_data/cities.csv\", index_label=\"City_ID\")"
   ]
  },
  {
   "cell_type": "code",
   "execution_count": null,
   "id": "7f6a395c-2fa2-424e-bc4b-7c757d156029",
   "metadata": {},
   "outputs": [],
   "source": [
    "# Read saved data\n",
    "city_data_df = pd.read_csv(\"output_data/cities.csv\", index_col=\"City_ID\")\n",
    "\n",
    "# Display sample data\n",
    "city_data_df.head()"
   ]
  },
  {
   "cell_type": "markdown",
   "id": "9e395a62-5593-4970-8a2d-ae40637ca5a1",
   "metadata": {},
   "source": [
    "# Scatter Plots\n",
    "## Latitude vs. Temperature"
   ]
  },
  {
   "cell_type": "code",
   "execution_count": null,
   "id": "9557054e-e0b0-4333-b8d9-512b7193237d",
   "metadata": {},
   "outputs": [],
   "source": [
    "# Build scatter plot for latitude vs. temperature\n",
    "plt.figure(figsize=(6, 4))\n",
    "plt.scatter(city_data_df['Lat'], city_data_df['Max Temp'], color='dimgray', alpha=0.5)\n",
    "plt.title('City Maximum Temperature vs. Latitude')\n",
    "plt.xlabel('Latitude')\n",
    "plt.ylabel('Maximum Temperature')\n",
    "plt.grid(True)\n",
    "\n",
    "# Save the figure\n",
    "plt.savefig(\"output_data/Fig1.png\")\n",
    "\n",
    "plt.show()"
   ]
  },
  {
   "cell_type": "code",
   "execution_count": null,
   "id": "7b603bd4-125c-40d9-a2e5-6cf04408839b",
   "metadata": {},
   "outputs": [],
   "source": [
    "# Build the scatter plots for latitude vs. humidity\n",
    "plt.figure(figsize=(6, 4))\n",
    "plt.scatter(city_data_df['Lat'], city_data_df['Humidity'], color='dimgray', alpha=0.5)\n",
    "plt.title('City Humidity vs. Latitude')\n",
    "plt.xlabel('Latitude')\n",
    "plt.ylabel('Humidity')\n",
    "plt.grid(True)\n",
    "\n",
    "# Save the figure\n",
    "plt.savefig(\"output_data/Fig2.png\")\n",
    "\n",
    "# Show plot\n",
    "plt.show()"
   ]
  },
  {
   "cell_type": "code",
   "execution_count": null,
   "id": "cc2317ef-4bef-49a6-8be8-a4577a4b0e04",
   "metadata": {},
   "outputs": [],
   "source": [
    "# Build the scatter plots for latitude vs. cloudiness\n",
    "plt.figure(figsize=(6, 4))\n",
    "plt.scatter(city_data_df['Lat'], city_data_df['Cloudiness'], color='dimgray', alpha=0.5)\n",
    "plt.title('City Cloudiness vs. Latitude')\n",
    "plt.xlabel('Latitude')\n",
    "plt.ylabel('Cloudiness')\n",
    "plt.grid(True)\n",
    "\n",
    "# Save the figure\n",
    "plt.savefig(\"output_data/Fig3.png\")\n",
    "\n",
    "# Show plot\n",
    "plt.show()"
   ]
  },
  {
   "cell_type": "code",
   "execution_count": null,
   "id": "a693a7c9-0093-410a-b78d-894a18bcf6da",
   "metadata": {},
   "outputs": [],
   "source": [
    "# Build the scatter plots for latitude vs. wind speed\n",
    "plt.figure(figsize=(6, 4))\n",
    "plt.scatter(city_data_df['Lat'], city_data_df['Wind Speed'], color='dimgray', alpha=0.5)\n",
    "plt.title('City Wind Speed vs. Latitude')\n",
    "plt.xlabel('Latitude')\n",
    "plt.ylabel('Wind Speed')\n",
    "plt.grid(True)\n",
    "\n",
    "# Save the figure\n",
    "plt.savefig(\"output_data/Fig4.png\")\n",
    "\n",
    "# Show plot\n",
    "plt.show()"
   ]
  },
  {
   "cell_type": "markdown",
   "id": "749dd1b7-9bc2-4563-8259-92c0434cb7eb",
   "metadata": {},
   "source": [
    "# Requirement 2: Compute Linear Regression for Each Relationship"
   ]
  },
  {
   "cell_type": "raw",
   "id": "ab089387-1916-499a-9752-fab6b9af249f",
   "metadata": {},
   "source": [
    "# LEFT THIS RAW BECAUSE THE INSTRUCTIONS SAY TO DEFINE THE FUNCTION BUT DON'T SAY WHAT RELATIONSHIP TO VIEW. THIS IS THE FUNCTION USED GOING FORWARD.\n",
    "# CAN BE TURNED ON BY CHANGING FROM \"RAW\" TO \"CODE\".\n",
    "\n",
    "from scipy.stats import linregress\n",
    "\n",
    "# Define a function to create Linear Regression plots\n",
    "def plot_linear_regression(x, y, xlabel, ylabel):\n",
    "    x = np.array(x)  # Convert x to a NumPy array\n",
    "    y = np.array(y)  # Convert y to a NumPy array\n",
    "    slope, intercept, rvalue, pvalue, stderr = linregress(x, y)\n",
    "    regress_values = x * slope + intercept\n",
    "    line_eq = \"y = \" + str(round(slope,2)) + \"x + \" + str(round(intercept,2))\n",
    "    plt.scatter(x, y)\n",
    "    plt.plot(x, regress_values, \"r-\")\n",
    "    plt.annotate(line_eq,(np.min(x),np.max(y)),fontsize=15,color=\"red\")\n",
    "    plt.xlabel(xlabel)\n",
    "    plt.ylabel(ylabel)\n",
    "    plt.show()\n",
    "\n",
    "# Parameters\n",
    "x = city_data_df['Lat']\n",
    "y = city_data_df['Wind Speed']\n",
    "xlabel = \"Latitude\"\n",
    "ylabel = \"Wind Speed\"\n",
    "\n",
    "plot_linear_regression(x, y, xlabel, ylabel)\n",
    "\n"
   ]
  },
  {
   "cell_type": "code",
   "execution_count": null,
   "id": "ce575f43-779b-4276-9471-20dc8192f5e8",
   "metadata": {},
   "outputs": [],
   "source": [
    "# Create a DataFrame with the Northern Hemisphere data (Latitude >= 0)\n",
    "northern_hemi_df = city_data_df[city_data_df['Lat'] >= 0]\n",
    "\n",
    "# Display sample data\n",
    "northern_hemi_df.head()"
   ]
  },
  {
   "cell_type": "code",
   "execution_count": null,
   "id": "c86fa267-b2ea-4331-99c3-a26684c0d02a",
   "metadata": {},
   "outputs": [],
   "source": [
    "# Create a DataFrame with the Southern Hemisphere data (Latitude < 0)\n",
    "southern_hemi_df = city_data_df[city_data_df['Lat'] < 0]\n",
    "\n",
    "# Display sample data\n",
    "southern_hemi_df.head()"
   ]
  },
  {
   "cell_type": "markdown",
   "id": "420c1f9e-f09f-4b92-bbab-67a95a01bfce",
   "metadata": {},
   "source": [
    "## Temperature vs. Latitude Linear Regression Plot"
   ]
  },
  {
   "cell_type": "code",
   "execution_count": null,
   "id": "a17b5db1-47aa-4579-9bb2-c06d627247b9",
   "metadata": {},
   "outputs": [],
   "source": [
    "# Linear regression on Northern Hemisphere\n",
    "\n",
    "# this line can be deleted when the kernel is run start to finish. It is at the top with the rest of the imports.\n",
    "# Given that this data set takes ten minutes to get from the API, I'm putting it here so as not to restart the process of going through each step.\n",
    "#from scipy.stats import linregress\n",
    "\n",
    "# Linear regression on Northern Hemisphere\n",
    "def plot_linear_regression(x, y, xlabel, ylabel):\n",
    "    x = np.array(x)  # Convert x to a NumPy array\n",
    "    y = np.array(y)  # Convert y to a NumPy array\n",
    "    slope, intercept, rvalue, pvalue, stderr = linregress(x, y)\n",
    "    regress_values = x * slope + intercept\n",
    "    line_eq = \"y = \" + str(round(slope,2)) + \"x + \" + str(round(intercept,2))\n",
    "    plt.scatter(x, y)\n",
    "    plt.plot(x, regress_values, \"r-\")\n",
    "    plt.xlabel(xlabel)\n",
    "    plt.ylabel(ylabel)\n",
    "    plt.text(np.min(x) + 1, np.max(y) - 40, line_eq, fontsize=12, color=\"red\")\n",
    "    plt.show()\n",
    "    print(\"The R value is:\", rvalue)\n",
    "\n",
    "# Parameters\n",
    "x = northern_hemi_df['Lat']\n",
    "y = northern_hemi_df['Max Temp']\n",
    "xlabel = \"Latitude\"\n",
    "ylabel = \"Maximum Temperature\"\n",
    "\n",
    "plot_linear_regression(x, y, xlabel, ylabel)"
   ]
  },
  {
   "cell_type": "code",
   "execution_count": null,
   "id": "041d4a5a-43e7-46fc-b81c-fa35df7376b3",
   "metadata": {},
   "outputs": [],
   "source": [
    "# Linear regression on Southern Hemisphere\n",
    "def plot_linear_regression(x, y, xlabel, ylabel):\n",
    "    x = np.array(x)  # Convert x to a NumPy array\n",
    "    y = np.array(y)  # Convert y to a NumPy array\n",
    "    slope, intercept, rvalue, pvalue, stderr = linregress(x, y)\n",
    "    regress_values = x * slope + intercept\n",
    "    line_eq = \"y = \" + str(round(slope,2)) + \"x + \" + str(round(intercept,2))\n",
    "    plt.scatter(x, y)\n",
    "    plt.plot(x, regress_values, \"r-\")\n",
    "    plt.xlabel(xlabel)\n",
    "    plt.ylabel(ylabel)\n",
    "    plt.text(np.min(x) + 1, np.max(y) - 5, line_eq, fontsize=12, color=\"red\")\n",
    "    plt.show()\n",
    "    print(\"The R value is:\", rvalue)\n",
    "\n",
    "# Parameters\n",
    "x = southern_hemi_df['Lat']\n",
    "y = southern_hemi_df['Max Temp']\n",
    "xlabel = \"Latitude\"\n",
    "ylabel = \"Maximum Temperature\"\n",
    "\n",
    "plot_linear_regression(x, y, xlabel, ylabel)"
   ]
  },
  {
   "cell_type": "markdown",
   "id": "e81e0cf8-a02a-47cd-be11-f3daab0167d9",
   "metadata": {},
   "source": [
    "### Discussion about linear relationship: \n",
    "\n",
    "High temperature is strongly correlated with latitudes near 0.\n",
    "\n",
    "Higher northern latitudes correlate more strongly with lower temperatures than southern latitudes equally far south.\n",
    "\n",
    "This is not at all outside of expectations as the southern hemisphere tends to have more mild temperatures in the far south and hotter temperatures nearing the equator. Northern latitudes mirror this."
   ]
  },
  {
   "cell_type": "markdown",
   "id": "a3629c5a-3ac3-4928-8a6d-195681f4d467",
   "metadata": {},
   "source": [
    "### Humidity vs. Latitude Linear Regression Plot"
   ]
  },
  {
   "cell_type": "code",
   "execution_count": null,
   "id": "26bf9a18-f5f1-4fbb-a1f4-231ea0f868e6",
   "metadata": {},
   "outputs": [],
   "source": [
    "# Linear regression on Northern Hemisphere\n",
    "def plot_linear_regression(x, y, xlabel, ylabel):\n",
    "    x = np.array(x)  # Convert x to a NumPy array\n",
    "    y = np.array(y)  # Convert y to a NumPy array\n",
    "    slope, intercept, rvalue, pvalue, stderr = linregress(x, y)\n",
    "    regress_values = x * slope + intercept\n",
    "    line_eq = \"y = \" + str(round(slope,2)) + \"x + \" + str(round(intercept,2))\n",
    "    plt.scatter(x, y)\n",
    "    plt.plot(x, regress_values, \"r-\")\n",
    "    plt.xlabel(xlabel)\n",
    "    plt.ylabel(ylabel)\n",
    "    plt.text(np.min(x) + 50, np.max(y) - 80, line_eq, fontsize=12, color=\"red\")\n",
    "    plt.show()\n",
    "    print(\"The R value is:\", rvalue)\n",
    "                                     \n",
    "# Parameters\n",
    "x = northern_hemi_df['Lat']\n",
    "y = northern_hemi_df['Humidity']\n",
    "xlabel = \"Latitude\"\n",
    "ylabel = \"Humidity\"\n",
    "\n",
    "plot_linear_regression(x, y, xlabel, ylabel)"
   ]
  },
  {
   "cell_type": "code",
   "execution_count": null,
   "id": "2c4cd785-80f7-4c3d-9119-f487f7033ded",
   "metadata": {},
   "outputs": [],
   "source": [
    "# Linear regression on Southern Hemisphere\n",
    "def plot_linear_regression(x, y, xlabel, ylabel):\n",
    "    x = np.array(x)  # Convert x to a NumPy array\n",
    "    y = np.array(y)  # Convert y to a NumPy array\n",
    "    slope, intercept, rvalue, pvalue, stderr = linregress(x, y)\n",
    "    regress_values = x * slope + intercept\n",
    "    line_eq = \"y = \" + str(round(slope,2)) + \"x + \" + str(round(intercept,2))\n",
    "    plt.scatter(x, y)\n",
    "    plt.plot(x, regress_values, \"r-\")\n",
    "    plt.xlabel(xlabel)\n",
    "    plt.ylabel(ylabel)\n",
    "    plt.text(np.min(x) + 0, np.max(y) - 50, line_eq, fontsize=12, color=\"red\")\n",
    "    plt.show()\n",
    "    print(\"The R value is:\", rvalue)\n",
    "                                     \n",
    "# Parameters\n",
    "x = southern_hemi_df['Lat']\n",
    "y = southern_hemi_df['Humidity']\n",
    "xlabel = \"Latitude\"\n",
    "ylabel = \"Humidity\"\n",
    "\n",
    "plot_linear_regression(x, y, xlabel, ylabel)"
   ]
  },
  {
   "cell_type": "markdown",
   "id": "bc7ea4f0-7b89-4752-9765-b917b2a48811",
   "metadata": {},
   "source": [
    "### Discussion about Linear Relationship:\n",
    "\n",
    "Humidity is correlated with higher northern lattitudes.\n",
    "\n",
    "Humidity is also correlated with lower higher (closer to 0) southern latitudes. So, as you go north, humidity generally increases."
   ]
  },
  {
   "cell_type": "markdown",
   "id": "b1f222ef-4744-41f1-a98a-39a6a206ea3b",
   "metadata": {},
   "source": [
    "### Cloudiness vs. Latitude Linear Regression Plot"
   ]
  },
  {
   "cell_type": "code",
   "execution_count": null,
   "id": "9ad07d2c-ca4c-4cfe-acfe-1b48b64b9e5a",
   "metadata": {},
   "outputs": [],
   "source": [
    "# Linear regression on Northern Hemisphere\n",
    "def plot_linear_regression(x, y, xlabel, ylabel):\n",
    "    x = np.array(x)  # Convert x to a NumPy array\n",
    "    y = np.array(y)  # Convert y to a NumPy array\n",
    "    slope, intercept, rvalue, pvalue, stderr = linregress(x, y)\n",
    "    regress_values = x * slope + intercept\n",
    "    line_eq = \"y = \" + str(round(slope,2)) + \"x + \" + str(round(intercept,2))\n",
    "    plt.scatter(x, y)\n",
    "    plt.plot(x, regress_values, \"r-\")\n",
    "    plt.xlabel(xlabel)\n",
    "    plt.ylabel(ylabel)\n",
    "    plt.text(np.min(x) + 90, np.max(y) - 80, line_eq, fontsize=12, color=\"red\")\n",
    "    plt.show()\n",
    "    print(\"The R value is:\", rvalue)\n",
    "                                     \n",
    "# Parameters\n",
    "x = northern_hemi_df['Lat']\n",
    "y = northern_hemi_df['Cloudiness']\n",
    "xlabel = \"Latitude\"\n",
    "ylabel = \"Cloudiness\"\n",
    "\n",
    "plot_linear_regression(x, y, xlabel, ylabel)"
   ]
  },
  {
   "cell_type": "code",
   "execution_count": null,
   "id": "cc6fb997-117b-4e0d-b8e2-396dc550b858",
   "metadata": {},
   "outputs": [],
   "source": [
    "# Linear regression on Southern Hemisphere\n",
    "def plot_linear_regression(x, y, xlabel, ylabel):\n",
    "    x = np.array(x)  # Convert x to a NumPy array\n",
    "    y = np.array(y)  # Convert y to a NumPy array\n",
    "    slope, intercept, rvalue, pvalue, stderr = linregress(x, y)\n",
    "    regress_values = x * slope + intercept\n",
    "    line_eq = \"y = \" + str(round(slope,2)) + \"x + \" + str(round(intercept,2))\n",
    "    plt.scatter(x, y)\n",
    "    plt.plot(x, regress_values, \"r-\")\n",
    "    plt.xlabel(xlabel)\n",
    "    plt.ylabel(ylabel)\n",
    "    plt.text(np.min(x) + 0, np.max(y) - 50, line_eq, fontsize=12, color=\"red\")\n",
    "    plt.show()\n",
    "    print(\"The R value is:\", rvalue)\n",
    "                                     \n",
    "# Parameters\n",
    "x = southern_hemi_df['Lat']\n",
    "y = southern_hemi_df['Cloudiness']\n",
    "xlabel = \"Latitude\"\n",
    "ylabel = \"Cloudiness\"\n",
    "\n",
    "plot_linear_regression(x, y, xlabel, ylabel)"
   ]
  },
  {
   "cell_type": "markdown",
   "id": "90afe11b-36c2-4f4c-840a-3e1e0ccd648b",
   "metadata": {},
   "source": [
    "### Discussion about Linear Relationship:\n",
    "\n",
    "Cloudiness north of the equator is almost not correlated with latitude.\n",
    "\n",
    "Cloudiness south of the equator increases approaching the equator."
   ]
  },
  {
   "cell_type": "markdown",
   "id": "418c26d3-47c4-4349-89f0-439d5e5cff27",
   "metadata": {},
   "source": [
    "### Wind Speed vs. Latitude Linear Regression Plot"
   ]
  },
  {
   "cell_type": "code",
   "execution_count": null,
   "id": "25c5530a-be90-4c42-86c6-7749744a2938",
   "metadata": {},
   "outputs": [],
   "source": [
    "# Linear regression on Northern Hemisphere\n",
    "def plot_linear_regression(x, y, xlabel, ylabel):\n",
    "    x = np.array(x)  # Convert x to a NumPy array\n",
    "    y = np.array(y)  # Convert y to a NumPy array\n",
    "    slope, intercept, rvalue, pvalue, stderr = linregress(x, y)\n",
    "    regress_values = x * slope + intercept\n",
    "    line_eq = \"y = \" + str(round(slope,2)) + \"x + \" + str(round(intercept,2))\n",
    "    plt.scatter(x, y)\n",
    "    plt.plot(x, regress_values, \"r-\")\n",
    "    plt.xlabel(xlabel)\n",
    "    plt.ylabel(ylabel)\n",
    "    plt.text(np.min(x) + 10, np.max(y) - 2, line_eq, fontsize=12, color=\"red\")\n",
    "    plt.show()\n",
    "    print(\"The R value is:\", rvalue)\n",
    "                                     \n",
    "# Parameters\n",
    "x = northern_hemi_df['Lat']\n",
    "y = northern_hemi_df['Wind Speed']\n",
    "xlabel = \"Latitude\"\n",
    "ylabel = \"Wind Speed\"\n",
    "\n",
    "plot_linear_regression(x, y, xlabel, ylabel)"
   ]
  },
  {
   "cell_type": "code",
   "execution_count": null,
   "id": "4e680882-64fb-4a69-9c3e-4c007ff22f68",
   "metadata": {},
   "outputs": [],
   "source": [
    "# Linear regression on Southern Hemisphere\n",
    "def plot_linear_regression(x, y, xlabel, ylabel):\n",
    "    x = np.array(x)  # Convert x to a NumPy array\n",
    "    y = np.array(y)  # Convert y to a NumPy array\n",
    "    slope, intercept, rvalue, pvalue, stderr = linregress(x, y)\n",
    "    regress_values = x * slope + intercept\n",
    "    line_eq = \"y = \" + str(round(slope,2)) + \"x + \" + str(round(intercept,2))\n",
    "    plt.scatter(x, y)\n",
    "    plt.plot(x, regress_values, \"r-\")\n",
    "    plt.xlabel(xlabel)\n",
    "    plt.ylabel(ylabel)\n",
    "    plt.text(np.min(x) + 0, np.max(y) - 2, line_eq, fontsize=12, color=\"red\")\n",
    "    plt.show()\n",
    "    print(\"The R value is:\", rvalue)\n",
    "                                     \n",
    "# Parameters\n",
    "x = southern_hemi_df['Lat']\n",
    "y = southern_hemi_df['Wind Speed']\n",
    "xlabel = \"Latitude\"\n",
    "ylabel = \"Wind Speed\"\n",
    "\n",
    "plot_linear_regression(x, y, xlabel, ylabel)"
   ]
  },
  {
   "cell_type": "markdown",
   "id": "b718eda0-3bd4-48ae-9724-0af395453cca",
   "metadata": {},
   "source": [
    "### Discussion about Linear Relationship:\n",
    "\n",
    "Wind speed in the northern latitudes is somewhat correlated, but only slightly, with slightly higher speeds for higher lattitudes than lower ones.\n",
    "\n",
    "Same is true for the southern latitudes. Wind speed increases moving away from the equator."
   ]
  },
  {
   "cell_type": "code",
   "execution_count": null,
   "id": "bf447026-d564-4140-a262-f7ce3064ed43",
   "metadata": {},
   "outputs": [],
   "source": []
  }
 ],
 "metadata": {
  "kernelspec": {
   "display_name": "Python 3 (ipykernel)",
   "language": "python",
   "name": "python3"
  },
  "language_info": {
   "codemirror_mode": {
    "name": "ipython",
    "version": 3
   },
   "file_extension": ".py",
   "mimetype": "text/x-python",
   "name": "python",
   "nbconvert_exporter": "python",
   "pygments_lexer": "ipython3",
   "version": "3.11.7"
  }
 },
 "nbformat": 4,
 "nbformat_minor": 5
}
